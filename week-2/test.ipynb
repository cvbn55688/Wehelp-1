{
 "cells": [
  {
   "cell_type": "code",
   "execution_count": 9,
   "metadata": {},
   "outputs": [
    {
     "name": "stdout",
     "output_type": "stream",
     "text": [
      "6\n",
      "18\n",
      "0\n"
     ]
    }
   ],
   "source": [
    "def calculate(min, max, step):\n",
    "# 請用你的程式補完這個函式的區塊\n",
    "    sum = 0\n",
    "    while True:\n",
    "        if min <= max:\n",
    "            sum += min\n",
    "            min += step\n",
    "        else:\n",
    "            break\n",
    "    print(sum)\n",
    "\n",
    "\n",
    "calculate(1, 3, 1) # 你的程式要能夠計算 1+2+3，最後印出 6\n",
    "calculate(4, 8, 2) # 你的程式要能夠計算 4+6+8，最後印出 18\n",
    "calculate(-1, 2, 2) # 你的程式要能夠計算 -1+1，最後印出 0\n"
   ]
  },
  {
   "cell_type": "code",
   "execution_count": 49,
   "metadata": {},
   "outputs": [
    {
     "name": "stdout",
     "output_type": "stream",
     "text": [
      "非manager的員工有3位, 薪水總和為120000元, 平均為40000.0元\n"
     ]
    }
   ],
   "source": [
    "def avg(data):\n",
    "# 請用你的程式補完這個函式的區塊\n",
    "    n = 0\n",
    "    sum = 0\n",
    "    # print(data[\"employees\"][1][\"manager\"])\n",
    "    # print(len(data[\"employees\"]))\n",
    "    for i in range(len(data[\"employees\"])):\n",
    "        if data[\"employees\"][i][\"manager\"] == False:\n",
    "            sum +=  data[\"employees\"][i][\"salary\"]\n",
    "            n += 1\n",
    "    print(f\"非manager的員工有{n}位, 薪水總和為{sum}元, 平均為{sum/n}元\")\n",
    "\n",
    "\n",
    "avg({\n",
    "\"employees\":[\n",
    "{\n",
    "\"name\":\"John\",\n",
    "\"salary\":30000,\n",
    "\"manager\":False\n",
    "},\n",
    "{\n",
    "\"name\":\"Bob\",\n",
    "\"salary\":60000,\n",
    "\"manager\":True\n",
    "},\n",
    "{\n",
    "\"name\":\"Jenny\",\n",
    "\"salary\":50000,\n",
    "\"manager\":False\n",
    "},\n",
    "{\n",
    "\"name\":\"Tony\",\n",
    "\"salary\":40000,\n",
    "\"manager\":False\n",
    "}\n",
    "]\n",
    "}) # 呼叫 avg 函式\n"
   ]
  },
  {
   "cell_type": "code",
   "execution_count": 27,
   "metadata": {},
   "outputs": [
    {
     "name": "stdout",
     "output_type": "stream",
     "text": [
      "14\n",
      "0\n",
      "15\n"
     ]
    }
   ],
   "source": [
    "def func(a):\n",
    "# 請用你的程式補完這個函式的區塊\n",
    "    def inner_func(b, c):\n",
    "        print(a + (b * c))\n",
    "    return inner_func\n",
    "\n",
    "\n",
    "func(2)(3, 4) # 你補完的函式能印出 2+(3*4) 的結果 14\n",
    "func(5)(1, -5) # 你補完的函式能印出 5+(1*-5) 的結果 0\n",
    "func(-3)(2, 9) # 你補完的函式能印出 -3+(2*9) 的結果 15\n",
    "# 一般形式為 func(a)(b, c) 要印出 a+(b*c) 的結果"
   ]
  },
  {
   "cell_type": "code",
   "execution_count": 24,
   "metadata": {},
   "outputs": [
    {
     "name": "stdout",
     "output_type": "stream",
     "text": [
      "10\n"
     ]
    }
   ],
   "source": [
    "def test(x):\n",
    "    def test2(a):\n",
    "        print(x + a)\n",
    "    return test2\n",
    "\n",
    "test(1)(9)"
   ]
  },
  {
   "cell_type": "code",
   "execution_count": 55,
   "metadata": {},
   "outputs": [
    {
     "name": "stdout",
     "output_type": "stream",
     "text": [
      "120\n",
      "30\n",
      "0\n",
      "-2\n",
      "0\n",
      "0\n",
      "10\n"
     ]
    }
   ],
   "source": [
    "def maxProduct(nums):\n",
    "# 請用你的程式補完這個函式的區塊\n",
    "    max = nums[0]\n",
    "    max2 = nums[0]\n",
    "\n",
    "    for i in nums:\n",
    "        if i > max:\n",
    "            max = i\n",
    "    \n",
    "    if max2 == max:\n",
    "        max2 = nums[1]\n",
    "\n",
    "    for i in nums:\n",
    "        if i == max:\n",
    "            continue\n",
    "        elif i > max2:\n",
    "            max2 = i\n",
    "\n",
    "\n",
    "maxProduct([5, 20, 2, 6]) # 得到 120\n",
    "maxProduct([10, -20, 0, 3]) # 得到 30\n",
    "maxProduct([10, -20, 0, -3]) # 得到 60\n",
    "maxProduct([-1, 2]) # 得到 -2\n",
    "maxProduct([-1, 0, 2]) # 得到 0\n",
    "maxProduct([5,-1, -2, 0]) # 得到 2\n",
    "maxProduct([-5, -2]) # 得到 10\n"
   ]
  },
  {
   "cell_type": "code",
   "execution_count": 58,
   "metadata": {},
   "outputs": [
    {
     "name": "stdout",
     "output_type": "stream",
     "text": [
      "120\n",
      "30\n",
      "60\n",
      "-2\n",
      "0\n",
      "2\n",
      "10\n"
     ]
    }
   ],
   "source": [
    "def maxProduct(nums):\n",
    "# 請用你的程式補完這個函式的區塊\n",
    "    max = nums[0] * nums[1]\n",
    "\n",
    "    for i in nums:\n",
    "        for j in nums:\n",
    "            if (i * j) > max and i != j:\n",
    "                max = i * j\n",
    "    print(max)\n",
    "\n",
    "maxProduct([5, 20, 2, 6]) # 得到 120\n",
    "maxProduct([10, -20, 0, 3]) # 得到 30\n",
    "maxProduct([10, -20, 0, -3]) # 得到 60\n",
    "maxProduct([-1, 2]) # 得到 -2\n",
    "maxProduct([-1, 0, 2]) # 得到 0\n",
    "maxProduct([5,-1, -2, 0]) # 得到 2\n",
    "maxProduct([-5, -2]) # 得到 10\n"
   ]
  },
  {
   "cell_type": "code",
   "execution_count": 178,
   "metadata": {},
   "outputs": [
    {
     "name": "stdout",
     "output_type": "stream",
     "text": [
      "[2, 3] because nums[2] + nums[3] is 22\n"
     ]
    }
   ],
   "source": [
    "def twoSum(nums, target):\n",
    "    # your code here\n",
    "    for i in range(len(nums)):\n",
    "        for j in range(i,len(nums)):\n",
    "            if i != j and nums[i] + nums[j] == target:\n",
    "                lis = [i, j]\n",
    "                return f\"{lis} because nums[{i}] + nums[{j}] is {target}\"\n",
    "\n",
    "\n",
    "result = twoSum([2, 11, 7, 15], 9)\n",
    "print(result)  # show [0, 2] because nums[0]+nums[2] is 9"
   ]
  },
  {
   "cell_type": "code",
   "execution_count": 132,
   "metadata": {},
   "outputs": [
    {
     "name": "stdout",
     "output_type": "stream",
     "text": [
      "[0, 2]\n"
     ]
    }
   ],
   "source": [
    "def twoSum(nums, target):\n",
    "    # your code here\n",
    "    i = 0\n",
    "    j = 0\n",
    "    while i+j != target:\n",
    "        for a in nums:\n",
    "            \n",
    "\n",
    "\n",
    "\n",
    "result = twoSum([2, 11, 7, 15], 9)\n",
    "print(result)  # show [0, 2] because nums[0]+nums[2] is 9"
   ]
  },
  {
   "cell_type": "code",
   "execution_count": 155,
   "metadata": {},
   "outputs": [
    {
     "name": "stdout",
     "output_type": "stream",
     "text": [
      "4\n"
     ]
    }
   ],
   "source": [
    "a = [1, 0, 0, 0, 0, 1, 0, 1, 0, 0]\n",
    "total = 0\n",
    "cont = 0\n",
    "for i in a:\n",
    "    if i == 0:\n",
    "        cont += 1\n",
    "    else:\n",
    "        if cont > total:\n",
    "            total = cont\n",
    "            cont = 0\n",
    "print(total)\n",
    "\n",
    "\n"
   ]
  },
  {
   "cell_type": "code",
   "execution_count": 170,
   "metadata": {},
   "outputs": [
    {
     "name": "stdout",
     "output_type": "stream",
     "text": [
      "2\n",
      "4\n",
      "0\n",
      "3\n"
     ]
    }
   ],
   "source": [
    "def maxZeros(nums):\n",
    "# 請用你的程式補完這個函式的區塊\n",
    "    nums.append(1)\n",
    "    total = 0\n",
    "    cont = 0\n",
    "    for i in nums:\n",
    "        if i == 0:\n",
    "            cont += 1\n",
    "        elif cont > total:\n",
    "            total = cont\n",
    "            cont = 0\n",
    "    print(total)\n",
    "\n",
    "\n",
    "maxZeros([0, 1, 0, 0]) # 得到 2\n",
    "maxZeros([1, 0, 0, 0, 0, 1, 0, 1, 0, 0]) # 得到 4\n",
    "maxZeros([1, 1, 1, 1, 1]) # 得到 0\n",
    "maxZeros([0, 0, 0, 1, 1]) # 得到 3"
   ]
  },
  {
   "cell_type": "code",
   "execution_count": 166,
   "metadata": {},
   "outputs": [
    {
     "name": "stdout",
     "output_type": "stream",
     "text": [
      "1\n",
      "4\n",
      "0\n",
      "3\n"
     ]
    }
   ],
   "source": []
  },
  {
   "cell_type": "code",
   "execution_count": 169,
   "metadata": {},
   "outputs": [
    {
     "data": {
      "text/plain": [
       "[1, 2, 3, 4, 1]"
      ]
     },
     "execution_count": 169,
     "metadata": {},
     "output_type": "execute_result"
    }
   ],
   "source": []
  },
  {
   "cell_type": "code",
   "execution_count": null,
   "metadata": {},
   "outputs": [],
   "source": []
  }
 ],
 "metadata": {
  "kernelspec": {
   "display_name": "Python 3.10.7 64-bit",
   "language": "python",
   "name": "python3"
  },
  "language_info": {
   "codemirror_mode": {
    "name": "ipython",
    "version": 3
   },
   "file_extension": ".py",
   "mimetype": "text/x-python",
   "name": "python",
   "nbconvert_exporter": "python",
   "pygments_lexer": "ipython3",
   "version": "3.10.7"
  },
  "orig_nbformat": 4,
  "vscode": {
   "interpreter": {
    "hash": "712476c7b6a23e4687e7526d0e99b7f1f64e5ae1f6e77cb7884b8de5e77058f5"
   }
  }
 },
 "nbformat": 4,
 "nbformat_minor": 2
}
