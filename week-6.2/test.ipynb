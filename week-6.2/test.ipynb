{
 "cells": [
  {
   "cell_type": "code",
   "execution_count": 1,
   "metadata": {},
   "outputs": [],
   "source": [
    "from flask import Flask\n",
    "from flask import request\n",
    "from flask import render_template\n",
    "from flask import redirect\n",
    "from flask import session\n",
    "from flask import flash\n",
    "import mysql.connector\n",
    "\n",
    "\n",
    "def connectDB():\n",
    "    connection = mysql.connector.connect(host = 'localhost',\n",
    "                                        port= \"3306\",\n",
    "                                        user = 'root',\n",
    "                                        password = 'zxc55332',\n",
    "                                        database = 'website_HW')\n",
    "    return connection"
   ]
  },
  {
   "cell_type": "code",
   "execution_count": 31,
   "metadata": {},
   "outputs": [
    {
     "name": "stdout",
     "output_type": "stream",
     "text": [
      "[(16, '終極測試員', 'super', 'super')]\n"
     ]
    }
   ],
   "source": [
    "connection = connectDB()\n",
    "cursor = connection.cursor()\n",
    "account = \"super\"\n",
    "password = \"super\"\n",
    "# cursor.execute(f'select * from member where username=\"{account}\" and password = \"{password}\";')#這種方式會被盜\n",
    "sql = 'select * from member where username = %s and password = %s;'\n",
    "cursor.execute(sql, (account,password))\n",
    "records = cursor.fetchall()\n",
    "print(records)\n",
    "cursor.close()\n",
    "connection.close()"
   ]
  },
  {
   "cell_type": "code",
   "execution_count": 118,
   "metadata": {},
   "outputs": [
    {
     "name": "stdout",
     "output_type": "stream",
     "text": [
      "Pool name: my_connection_pool\n",
      "Connection ID: 33\n",
      "(1, 'name1', 'test1', 'test1')\n",
      "(2, 'name2', 'test2', 'test2')\n",
      "(3, 'ZH', 'test', 'test')\n",
      "(11, 'name3', 'test3', 'test3')\n",
      "(12, 'Zhi_Han', 'testtest', 'testtest')\n",
      "(13, '芒果', '123', '123')\n",
      "(14, '西瓜', '456', '456')\n",
      "(15, '南瓜', '789', '789')\n",
      "(16, '終極測試員', 'super', 'super')\n",
      "(20, '終極測試員2號', 'super2', 'super2')\n",
      "(22, 'ZHHH', 'test123', 'test123')\n",
      "(23, '小白Z', '123123', '123123')\n",
      "(24, '超級測試員4號', 'super4', 'super4')\n",
      "(25, '阿肥肚子餓!!', 'pfg', 'pfg')\n",
      "(26, '超級測試員3號', 'super3', 'super3')\n",
      "(27, '超級測試員5號', 'super5', 'super5')\n",
      "Shutdoun\n"
     ]
    }
   ],
   "source": [
    "import mysql.connector\n",
    "from mysql.connector import errors\n",
    "\n",
    "\n",
    "try:\n",
    "    db2 = mysql.connector.connect(host = 'localhost',\n",
    "                                        port= \"3306\",\n",
    "                                        user = 'root',\n",
    "                                        password = 'zxc55332',\n",
    "                                        database = 'website_HW',\n",
    "                                        pool_name='my_connection_pool',\n",
    "                                        pool_size = 10\n",
    "                                            )\n",
    "\n",
    "    cursor = db2.cursor()\n",
    "    print(\"Pool name:\", db2.pool_name)\n",
    "    print(\"Connection ID:\", db2.connection_id)\n",
    "\n",
    "    cursor.execute(\"select * from member\")\n",
    "    for i in cursor:\n",
    "        print(i)\n",
    "except errors.Error as e:\n",
    "    print(e)\n",
    "\n",
    "finally:\n",
    "    print(\"Shutdoun\")\n",
    "    cursor.close()\n",
    "    db2.close()\n"
   ]
  },
  {
   "cell_type": "code",
   "execution_count": 52,
   "metadata": {},
   "outputs": [
    {
     "name": "stdout",
     "output_type": "stream",
     "text": [
      "Failed getting connection; pool exhausted\n",
      "Shutdoun\n"
     ]
    },
    {
     "ename": "InternalError",
     "evalue": "Unread result found",
     "output_type": "error",
     "traceback": [
      "\u001b[1;31m---------------------------------------------------------------------------\u001b[0m",
      "\u001b[1;31mInternalError\u001b[0m                             Traceback (most recent call last)",
      "Cell \u001b[1;32mIn [52], line 31\u001b[0m\n\u001b[0;32m     29\u001b[0m \u001b[39mfinally\u001b[39;00m:\n\u001b[0;32m     30\u001b[0m     \u001b[39mprint\u001b[39m(\u001b[39m\"\u001b[39m\u001b[39mShutdoun\u001b[39m\u001b[39m\"\u001b[39m)\n\u001b[1;32m---> 31\u001b[0m     cursor\u001b[39m.\u001b[39;49mclose()\n\u001b[0;32m     32\u001b[0m     db\u001b[39m.\u001b[39mclose()\n",
      "File \u001b[1;32mc:\\Users\\410754001\\AppData\\Local\\Programs\\Python\\Python310\\lib\\site-packages\\mysql\\connector\\cursor_cext.py:436\u001b[0m, in \u001b[0;36mCMySQLCursor.close\u001b[1;34m(self)\u001b[0m\n\u001b[0;32m    433\u001b[0m \u001b[39mif\u001b[39;00m \u001b[39mnot\u001b[39;00m \u001b[39mself\u001b[39m\u001b[39m.\u001b[39m_cnx:\n\u001b[0;32m    434\u001b[0m     \u001b[39mreturn\u001b[39;00m \u001b[39mFalse\u001b[39;00m\n\u001b[1;32m--> 436\u001b[0m \u001b[39mself\u001b[39;49m\u001b[39m.\u001b[39;49m_cnx\u001b[39m.\u001b[39;49mhandle_unread_result()\n\u001b[0;32m    437\u001b[0m \u001b[39mself\u001b[39m\u001b[39m.\u001b[39m_warnings \u001b[39m=\u001b[39m \u001b[39mNone\u001b[39;00m\n\u001b[0;32m    438\u001b[0m \u001b[39mself\u001b[39m\u001b[39m.\u001b[39m_cnx \u001b[39m=\u001b[39m \u001b[39mNone\u001b[39;00m\n",
      "File \u001b[1;32mc:\\Users\\410754001\\AppData\\Local\\Programs\\Python\\Python310\\lib\\site-packages\\mysql\\connector\\connection_cext.py:872\u001b[0m, in \u001b[0;36mCMySQLConnection.handle_unread_result\u001b[1;34m(self, prepared)\u001b[0m\n\u001b[0;32m    870\u001b[0m     \u001b[39mself\u001b[39m\u001b[39m.\u001b[39mconsume_results()\n\u001b[0;32m    871\u001b[0m \u001b[39melif\u001b[39;00m unread_result:\n\u001b[1;32m--> 872\u001b[0m     \u001b[39mraise\u001b[39;00m InternalError(\u001b[39m\"\u001b[39m\u001b[39mUnread result found\u001b[39m\u001b[39m\"\u001b[39m)\n",
      "\u001b[1;31mInternalError\u001b[0m: Unread result found"
     ]
    }
   ],
   "source": [
    "import mysql.connector\n",
    "from mysql.connector import errors\n",
    "\n",
    "\n",
    "try:\n",
    "    db = mysql.connector.connect(host = 'localhost',\n",
    "                                        port= \"3306\",\n",
    "                                        user = 'root',\n",
    "                                        password = 'zxc55332',\n",
    "                                        database = 'website_HW',\n",
    "                                        pool_name='my_connection_pool',\n",
    "                                            )\n",
    "\n",
    "    cursor = db.cursor()\n",
    "    print(\"Pool name:\", db.pool_name)\n",
    "    print(\"Connection ID:\", db.connection_id)\n",
    "\n",
    "    cursor.execute(\"select * from member\")\n",
    "    res = cursor.fetchall()\n",
    "    # print(res)\n",
    "    # cursor.close()\n",
    "\n",
    "    res = cursor.execute(\"select * from message\")\n",
    "    res = cursor.fetchall()\n",
    "    print(res)\n",
    "except errors.Error as e:\n",
    "    print(e)\n",
    "\n",
    "finally:\n",
    "    print(\"Shutdoun\")\n",
    "    cursor.close()\n",
    "    db.close()\n"
   ]
  },
  {
   "cell_type": "code",
   "execution_count": null,
   "metadata": {},
   "outputs": [],
   "source": []
  },
  {
   "cell_type": "code",
   "execution_count": 25,
   "metadata": {},
   "outputs": [
    {
     "ename": "TypeError",
     "evalue": "expected str, bytes or os.PathLike object, not method",
     "output_type": "error",
     "traceback": [
      "\u001b[1;31m---------------------------------------------------------------------------\u001b[0m",
      "\u001b[1;31mTypeError\u001b[0m                                 Traceback (most recent call last)",
      "Cell \u001b[1;32mIn [25], line 16\u001b[0m\n\u001b[0;32m     13\u001b[0m \u001b[39m#結合目前的檔案路徑\u001b[39;00m\n\u001b[0;32m     14\u001b[0m \u001b[39m# print(src_path)\u001b[39;00m\n\u001b[0;32m     15\u001b[0m test \u001b[39m=\u001b[39m \u001b[39m\"\u001b[39m\u001b[39mup\u001b[39m\u001b[39m\"\u001b[39m\n\u001b[1;32m---> 16\u001b[0m Upload_Folder \u001b[39m=\u001b[39m os\u001b[39m.\u001b[39;49mpath\u001b[39m.\u001b[39;49mjoin(src_path, test)\n\u001b[0;32m     17\u001b[0m \u001b[39mprint\u001b[39m(Upload_Folder,\u001b[39m\"\u001b[39m\u001b[39m****************\u001b[39m\u001b[39m\"\u001b[39m)\n",
      "File \u001b[1;32mc:\\Users\\410754001\\AppData\\Local\\Programs\\Python\\Python310\\lib\\ntpath.py:104\u001b[0m, in \u001b[0;36mjoin\u001b[1;34m(path, *paths)\u001b[0m\n\u001b[0;32m    103\u001b[0m \u001b[39mdef\u001b[39;00m \u001b[39mjoin\u001b[39m(path, \u001b[39m*\u001b[39mpaths):\n\u001b[1;32m--> 104\u001b[0m     path \u001b[39m=\u001b[39m os\u001b[39m.\u001b[39;49mfspath(path)\n\u001b[0;32m    105\u001b[0m     \u001b[39mif\u001b[39;00m \u001b[39misinstance\u001b[39m(path, \u001b[39mbytes\u001b[39m):\n\u001b[0;32m    106\u001b[0m         sep \u001b[39m=\u001b[39m \u001b[39mb\u001b[39m\u001b[39m'\u001b[39m\u001b[39m\\\\\u001b[39;00m\u001b[39m'\u001b[39m\n",
      "\u001b[1;31mTypeError\u001b[0m: expected str, bytes or os.PathLike object, not method"
     ]
    }
   ],
   "source": [
    "import os\n",
    "from flask import Flask\n",
    "from flask import request\n",
    "from flask import render_template\n",
    "from flask import redirect\n",
    "from flask import session\n",
    "from flask import flash\n",
    "import mysql.connector\n",
    "import pathlib\n",
    "\n",
    "#取得當前檔案位置\n",
    "src_path = pathlib.Path().resolve\n",
    "#結合目前的檔案路徑\n",
    "# print(src_path)\n",
    "test = \"up\"\n",
    "Upload_Folder = os.path.join(src_path, test)\n",
    "print(Upload_Folder,\"****************\")"
   ]
  },
  {
   "cell_type": "code",
   "execution_count": 8,
   "metadata": {},
   "outputs": [
    {
     "data": {
      "text/plain": [
       "'1666877603.8458354'"
      ]
     },
     "execution_count": 8,
     "metadata": {},
     "output_type": "execute_result"
    }
   ],
   "source": [
    "import time\n",
    "str((time.time()))"
   ]
  },
  {
   "cell_type": "code",
   "execution_count": 2,
   "metadata": {},
   "outputs": [
    {
     "name": "stdout",
     "output_type": "stream",
     "text": [
      "[(1, 'name1', 'test1', 'test1', '1666870703.jpg'), (2, 'name2', 'test2', 'test2', '1666873222.gif'), (3, 'ZH', 'test', 'test', '1666877436.jpg'), (11, 'name3', 'test3', 'test3', '1666857417.png'), (12, 'Zhi_Han', 'testtest', 'testtest', '1666869459.jpeg'), (13, '芒果', '123', '123', '1666870578.jpg'), (14, '西瓜', '456', '456', '1666857417.png'), (15, '南瓜', '789', '789', '1666857417.png'), (16, '終極測試員', 'super', 'super', '1666857417.png'), (20, '終極測試員2號', 'super2', 'super2', '1666857417.png'), (22, 'ZHHH', 'test123', 'test123', '1666857417.png'), (23, '小白Z', '123123', '123123', '1666857417.png'), (24, '超級測試員4號', 'super4', 'super4', '1666871836.jpg'), (25, '阿肥肚子餓!!', 'pfg', 'pfg', '1666857417.png'), (26, '超級測試員3號', 'super3', 'super3', '1666857417.png'), (27, '超級測試員5號', 'super5', 'super5', '1666878280.jpg'), (28, 'tttt', 'ttsts', 'setset', '1666857417')]\n"
     ]
    }
   ],
   "source": [
    "import mysql.connector\n",
    "from mysql.connector import errors\n",
    "try:\n",
    "    connection = mysql.connector.connect(host = 'localhost',\n",
    "                                        port= \"3306\",\n",
    "                                        user = 'root',\n",
    "                                        password = 'zxc55332',\n",
    "                                        database = 'website_HW',\n",
    "                                        pool_size = 3\n",
    "                                        )\n",
    "\n",
    "    cursor = connection.cursor()\n",
    "    cursor.execute(\"select * from member\")\n",
    "    res = cursor.fetchall()\n",
    "\n",
    "    print(res)\n",
    "\n",
    "finally:\n",
    "    cursor.close()\n",
    "    connection.close()"
   ]
  },
  {
   "cell_type": "code",
   "execution_count": null,
   "metadata": {},
   "outputs": [],
   "source": []
  },
  {
   "cell_type": "code",
   "execution_count": null,
   "metadata": {},
   "outputs": [],
   "source": []
  }
 ],
 "metadata": {
  "kernelspec": {
   "display_name": "Python 3.10.7 64-bit",
   "language": "python",
   "name": "python3"
  },
  "language_info": {
   "codemirror_mode": {
    "name": "ipython",
    "version": 3
   },
   "file_extension": ".py",
   "mimetype": "text/x-python",
   "name": "python",
   "nbconvert_exporter": "python",
   "pygments_lexer": "ipython3",
   "version": "3.10.7"
  },
  "orig_nbformat": 4,
  "vscode": {
   "interpreter": {
    "hash": "712476c7b6a23e4687e7526d0e99b7f1f64e5ae1f6e77cb7884b8de5e77058f5"
   }
  }
 },
 "nbformat": 4,
 "nbformat_minor": 2
}
